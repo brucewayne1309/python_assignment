{
 "cells": [
  {
   "cell_type": "raw",
   "id": "10470396-f201-448c-afb6-a6fa4c959784",
   "metadata": {},
   "source": [
    "Q- How can we store a s1ngle quote (‘) as a str1ng 1n a var1able?\n",
    "Ans-"
   ]
  },
  {
   "cell_type": "code",
   "execution_count": 6,
   "id": "a25c823d-88b6-4a94-a068-4aeeb4cccddb",
   "metadata": {},
   "outputs": [],
   "source": [
    "a = \"'\"\n"
   ]
  },
  {
   "cell_type": "code",
   "execution_count": 7,
   "id": "a395c8f6-ffb6-422b-86c7-8470f0f282de",
   "metadata": {},
   "outputs": [
    {
     "data": {
      "text/plain": [
       "\"'\""
      ]
     },
     "execution_count": 7,
     "metadata": {},
     "output_type": "execute_result"
    }
   ],
   "source": [
    "a"
   ]
  },
  {
   "cell_type": "raw",
   "id": "f0110d7b-d6c7-4754-91de-32824585e656",
   "metadata": {},
   "source": [
    "Q2 Refer the below var1able:\n",
    "x = ‘a'\n",
    "Here, Is x a character type or str1ng type var1able? Support your answer w1th an explanat1on.\n",
    "Ans - "
   ]
  },
  {
   "cell_type": "code",
   "execution_count": 8,
   "id": "48bdab8d-cc01-4119-8239-21c3a6a80d52",
   "metadata": {},
   "outputs": [],
   "source": [
    "x = 'a'"
   ]
  },
  {
   "cell_type": "code",
   "execution_count": 9,
   "id": "76e28174-3925-442e-8797-a7fdee782583",
   "metadata": {},
   "outputs": [
    {
     "data": {
      "text/plain": [
       "str"
      ]
     },
     "execution_count": 9,
     "metadata": {},
     "output_type": "execute_result"
    }
   ],
   "source": [
    "type(x)"
   ]
  },
  {
   "cell_type": "code",
   "execution_count": null,
   "id": "b78bc0f0-8e21-46c9-8141-a3e8538f5508",
   "metadata": {},
   "outputs": [],
   "source": [
    "here x is string type variable . In Python, strings are defined by enclosing characters within single quotes (' ') or double quotes (\" \"). In this case, the value assigned to x is 'a(', which is enclosed within single quotes, indicating that it is a string literal.\n",
    "\n",
    "A character type variable, also known as a char type, is typically used in programming languages that differentiate between individual characters and strings. However, in Python, there is no distinct character type. Instead, individual characters are represented as strings containing a single character. Therefore, in Python, a string consisting of a single character is used to represent what would be considered a character in other languages."
   ]
  },
  {
   "cell_type": "code",
   "execution_count": null,
   "id": "fd7693cb-c4fc-418c-8923-965225df0044",
   "metadata": {},
   "outputs": [],
   "source": [
    "Q-Apply the follow1ng funct1ons on th1s var1able: ‘Welcome to Python foun at1on course'\n",
    "SP f1n ()\n",
    ".P count()\n",
    "?P len()\n",
    "P Concatenat1on\n",
    "Note: You can use your cho1ce of parametersQ But make sure 1t 1s correct.\n"
   ]
  },
  {
   "cell_type": "code",
   "execution_count": 10,
   "id": "0017f709-5a66-45ef-8470-9ca89ecb14b2",
   "metadata": {},
   "outputs": [],
   "source": [
    "s2 = 'Welcome to Python foundation course'"
   ]
  },
  {
   "cell_type": "code",
   "execution_count": 11,
   "id": "5d0de438-53ea-4e2d-923e-e2baa175d0d6",
   "metadata": {},
   "outputs": [
    {
     "data": {
      "text/plain": [
       "'Welcome to Python foundation course'"
      ]
     },
     "execution_count": 11,
     "metadata": {},
     "output_type": "execute_result"
    }
   ],
   "source": [
    "s2"
   ]
  },
  {
   "cell_type": "code",
   "execution_count": 14,
   "id": "1da4ccce-2c70-4d89-9a71-03378125e124",
   "metadata": {},
   "outputs": [
    {
     "data": {
      "text/plain": [
       "18"
      ]
     },
     "execution_count": 14,
     "metadata": {},
     "output_type": "execute_result"
    }
   ],
   "source": [
    "s2.find('f')"
   ]
  },
  {
   "cell_type": "code",
   "execution_count": 19,
   "id": "df70650f-87a7-41fe-891a-1a6fd8dfcc06",
   "metadata": {},
   "outputs": [
    {
     "data": {
      "text/plain": [
       "6"
      ]
     },
     "execution_count": 19,
     "metadata": {},
     "output_type": "execute_result"
    }
   ],
   "source": [
    "s2.count('o')"
   ]
  },
  {
   "cell_type": "code",
   "execution_count": 20,
   "id": "15b3a870-e498-4eca-96b3-0c5d70b454ab",
   "metadata": {},
   "outputs": [
    {
     "data": {
      "text/plain": [
       "35"
      ]
     },
     "execution_count": 20,
     "metadata": {},
     "output_type": "execute_result"
    }
   ],
   "source": [
    "len(s2)"
   ]
  },
  {
   "cell_type": "code",
   "execution_count": 21,
   "id": "c3ada624-d7e2-493d-8282-be5449189819",
   "metadata": {},
   "outputs": [
    {
     "name": "stdout",
     "output_type": "stream",
     "text": [
      "HelloWorld\n"
     ]
    }
   ],
   "source": [
    "string1 = \"Hello\"\n",
    "string2 = \"World\"\n",
    "result = string1 + string2\n",
    "print(result)"
   ]
  },
  {
   "cell_type": "code",
   "execution_count": null,
   "id": "f85ed6db-002b-44f4-b33c-4d722b5f847b",
   "metadata": {},
   "outputs": [],
   "source": [
    "Q4- For the var1able: word = ‘PanaJi12256'\n",
    "Calculate the follow1ng:\n",
    "(a) Total number of alphabets 1n lowercase\n",
    "(b) Total number of alphabets 1n uppercase\n",
    "(c) Total number of numer1cal 1n str1ng"
   ]
  },
  {
   "cell_type": "code",
   "execution_count": 22,
   "id": "d91586ac-8e06-4aa3-82e9-ce20e2e85ff9",
   "metadata": {},
   "outputs": [],
   "source": [
    " word = 'PanaJi12256'"
   ]
  },
  {
   "cell_type": "code",
   "execution_count": 23,
   "id": "b8195cda-e760-4dbd-a540-af8f3a69898c",
   "metadata": {},
   "outputs": [
    {
     "data": {
      "text/plain": [
       "'PanaJi12256'"
      ]
     },
     "execution_count": 23,
     "metadata": {},
     "output_type": "execute_result"
    }
   ],
   "source": [
    "word"
   ]
  },
  {
   "cell_type": "code",
   "execution_count": 29,
   "id": "f5875832-ab92-44db-a9ad-4909500e5792",
   "metadata": {},
   "outputs": [
    {
     "ename": "SyntaxError",
     "evalue": "incomplete input (2209625153.py, line 1)",
     "output_type": "error",
     "traceback": [
      "\u001b[0;36m  Cell \u001b[0;32mIn[29], line 1\u001b[0;36m\u001b[0m\n\u001b[0;31m    len(word('upper')\u001b[0m\n\u001b[0m                     ^\u001b[0m\n\u001b[0;31mSyntaxError\u001b[0m\u001b[0;31m:\u001b[0m incomplete input\n"
     ]
    }
   ],
   "source": [
    "len(word('upper')"
   ]
  },
  {
   "cell_type": "code",
   "execution_count": 30,
   "id": "301ad07f-5606-4bad-a99e-f0f99ca01cac",
   "metadata": {},
   "outputs": [
    {
     "name": "stdout",
     "output_type": "stream",
     "text": [
      "Total number of lowercase alphabets: 4\n",
      "Total number of uppercase alphabets: 2\n",
      "Total number of numerical characters: 5\n"
     ]
    }
   ],
   "source": [
    "word = 'PanaJi12256'\n",
    "\n",
    "# Initialize counters\n",
    "lowercase_count = 0\n",
    "uppercase_count = 0\n",
    "numerical_count = 0\n",
    "\n",
    "# Iterate through each character in the string\n",
    "for char in word:\n",
    "    if char.islower():\n",
    "        lowercase_count += 1\n",
    "    elif char.isupper():\n",
    "        uppercase_count += 1\n",
    "    elif char.isnumeric():\n",
    "        numerical_count += 1\n",
    "\n",
    "# Print the results\n",
    "print(\"Total number of lowercase alphabets:\", lowercase_count)\n",
    "print(\"Total number of uppercase alphabets:\", uppercase_count)\n",
    "print(\"Total number of numerical characters:\", numerical_count)"
   ]
  },
  {
   "cell_type": "raw",
   "id": "91e88e63-b1ee-4b95-adf6-5b84c75b3404",
   "metadata": {},
   "source": [
    "Q5- Wr1te a co e to store a numer1cal value 1ns1 e a var1able then convert 1t 1nto str1ngQ\n",
    "ans-"
   ]
  },
  {
   "cell_type": "code",
   "execution_count": 1,
   "id": "0bde2303-521f-4ef0-86a3-beb52013d854",
   "metadata": {},
   "outputs": [],
   "source": [
    "b = 5"
   ]
  },
  {
   "cell_type": "code",
   "execution_count": 2,
   "id": "62a21f16-ef1c-4929-8733-6df7bcb79f42",
   "metadata": {},
   "outputs": [
    {
     "data": {
      "text/plain": [
       "5"
      ]
     },
     "execution_count": 2,
     "metadata": {},
     "output_type": "execute_result"
    }
   ],
   "source": [
    "b"
   ]
  },
  {
   "cell_type": "code",
   "execution_count": 3,
   "id": "f40b312f-d406-4e60-905b-369355ab0f9e",
   "metadata": {},
   "outputs": [
    {
     "data": {
      "text/plain": [
       "int"
      ]
     },
     "execution_count": 3,
     "metadata": {},
     "output_type": "execute_result"
    }
   ],
   "source": [
    "type(b)"
   ]
  },
  {
   "cell_type": "code",
   "execution_count": 4,
   "id": "6e078a3c-329f-42ae-8a25-cefd5cb2db20",
   "metadata": {},
   "outputs": [],
   "source": [
    "b = '5'"
   ]
  },
  {
   "cell_type": "code",
   "execution_count": null,
   "id": "06cc94b4-a315-42dc-84af-60becc7c46a6",
   "metadata": {},
   "outputs": [],
   "source": [
    "type(b"
   ]
  }
 ],
 "metadata": {
  "kernelspec": {
   "display_name": "Python 3 (ipykernel)",
   "language": "python",
   "name": "python3"
  },
  "language_info": {
   "codemirror_mode": {
    "name": "ipython",
    "version": 3
   },
   "file_extension": ".py",
   "mimetype": "text/x-python",
   "name": "python",
   "nbconvert_exporter": "python",
   "pygments_lexer": "ipython3",
   "version": "3.10.8"
  }
 },
 "nbformat": 4,
 "nbformat_minor": 5
}
