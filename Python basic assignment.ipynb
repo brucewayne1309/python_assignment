{
 "cells": [
  {
   "cell_type": "raw",
   "id": "f8fd584c-a3b6-4c95-8d6d-8fae495d8d08",
   "metadata": {},
   "source": [
    "Q1- Write all the conventions being followed while declaring a variable.\n",
    "Ans - A variable name must start with a letter or an underscore character (_) A variable name cannot start with a digit. A variable name can only contain alpha-numeric characters and underscores ( a-z, A-Z , 0-9 , and _ ) Variable names are case-sensitive (age, Age and AGE are three different variables)\n",
    "Q2- What will happen if we declare a restricted keyword as a variable?\n",
    "Ans- Let us suppose take we take 5 as variable and assign a value to it as 55.34\n"
   ]
  },
  {
   "cell_type": "code",
   "execution_count": 1,
   "id": "09c736c7-9ab3-4648-9e87-fd4666757d62",
   "metadata": {},
   "outputs": [
    {
     "ename": "SyntaxError",
     "evalue": "cannot assign to literal here. Maybe you meant '==' instead of '='? (2622052970.py, line 1)",
     "output_type": "error",
     "traceback": [
      "\u001b[0;36m  Cell \u001b[0;32mIn[1], line 1\u001b[0;36m\u001b[0m\n\u001b[0;31m    5 = 55.34\u001b[0m\n\u001b[0m    ^\u001b[0m\n\u001b[0;31mSyntaxError\u001b[0m\u001b[0;31m:\u001b[0m cannot assign to literal here. Maybe you meant '==' instead of '='?\n"
     ]
    }
   ],
   "source": [
    "5 = 55.34"
   ]
  },
  {
   "cell_type": "raw",
   "id": "ddcf9e8b-4bb4-4e47-967f-7b30fbd7c0f9",
   "metadata": {},
   "source": [
    "As you can see it will give syntax error as we assign any number as a variable."
   ]
  },
  {
   "cell_type": "raw",
   "id": "4713eb7b-79c6-4fe7-982b-12e728d03b75",
   "metadata": {},
   "source": [
    "Q3- Can we actually declare a string as a variable name?\n",
    "Ans - Yes we can take string as a variable name for example show below\n"
   ]
  },
  {
   "cell_type": "code",
   "execution_count": 2,
   "id": "f7766f67-9c83-4914-b06c-e16a8141fb56",
   "metadata": {},
   "outputs": [],
   "source": [
    "avinash = 5"
   ]
  },
  {
   "cell_type": "code",
   "execution_count": 3,
   "id": "1985eea4-6763-4df9-b0bd-811df58e877f",
   "metadata": {},
   "outputs": [
    {
     "data": {
      "text/plain": [
       "5"
      ]
     },
     "execution_count": 3,
     "metadata": {},
     "output_type": "execute_result"
    }
   ],
   "source": [
    "avinash"
   ]
  },
  {
   "cell_type": "raw",
   "id": "561860c4-0e01-4e8b-a5fb-7544894fbf25",
   "metadata": {},
   "source": [
    "Q4- Is it possible for us to declare “_” as a variable? If so, then write an example of it."
   ]
  },
  {
   "cell_type": "raw",
   "id": "26b17f74-f3f6-49e9-afe1-30fbebed385d",
   "metadata": {},
   "source": [
    "Ans"
   ]
  },
  {
   "cell_type": "code",
   "execution_count": 4,
   "id": "bcbfe9de-1800-4235-aada-70956f4bb982",
   "metadata": {},
   "outputs": [],
   "source": [
    "_ = 5"
   ]
  },
  {
   "cell_type": "code",
   "execution_count": 5,
   "id": "345e146e-e320-4510-b79e-5d386f030ee5",
   "metadata": {},
   "outputs": [
    {
     "data": {
      "text/plain": [
       "5"
      ]
     },
     "execution_count": 5,
     "metadata": {},
     "output_type": "execute_result"
    }
   ],
   "source": [
    "_"
   ]
  },
  {
   "cell_type": "raw",
   "id": "1a895ecc-192e-49a5-97da-a19157985df0",
   "metadata": {},
   "source": [
    "Yes it is possible to declare \"_\" as variable"
   ]
  },
  {
   "cell_type": "raw",
   "id": "51acb1b9-8f89-4c62-ad78-89779abd9232",
   "metadata": {},
   "source": [
    "Q5- Using an example, explain how the variables in python are dynamic in nature.\n"
   ]
  },
  {
   "cell_type": "code",
   "execution_count": null,
   "id": "88ce8c66-f733-4db1-b7b3-9edd575c968d",
   "metadata": {},
   "outputs": [],
   "source": [
    "Ans-"
   ]
  },
  {
   "cell_type": "code",
   "execution_count": 6,
   "id": "edde13c3-6653-49b4-947f-f428727fe87f",
   "metadata": {},
   "outputs": [],
   "source": [
    "c = 5"
   ]
  },
  {
   "cell_type": "code",
   "execution_count": 7,
   "id": "af78467d-6590-4d9c-9fcd-82ddab17dc1f",
   "metadata": {},
   "outputs": [
    {
     "data": {
      "text/plain": [
       "5"
      ]
     },
     "execution_count": 7,
     "metadata": {},
     "output_type": "execute_result"
    }
   ],
   "source": [
    "c"
   ]
  },
  {
   "cell_type": "code",
   "execution_count": 8,
   "id": "d96e9bf8-2c01-488f-9e88-24131d9141b7",
   "metadata": {},
   "outputs": [],
   "source": [
    "c = 7.8"
   ]
  },
  {
   "cell_type": "code",
   "execution_count": 9,
   "id": "b9f63cf8-2137-4de3-b33f-b94e3a1613c1",
   "metadata": {},
   "outputs": [
    {
     "data": {
      "text/plain": [
       "7.8"
      ]
     },
     "execution_count": 9,
     "metadata": {},
     "output_type": "execute_result"
    }
   ],
   "source": [
    "c"
   ]
  },
  {
   "cell_type": "raw",
   "id": "80b17081-e4ab-436a-90d5-0423c1cff650",
   "metadata": {},
   "source": [
    "As you can see when we change the value of variable c the value also gets changed so we can say that it is dynamic in nature"
   ]
  }
 ],
 "metadata": {
  "kernelspec": {
   "display_name": "Python 3 (ipykernel)",
   "language": "python",
   "name": "python3"
  },
  "language_info": {
   "codemirror_mode": {
    "name": "ipython",
    "version": 3
   },
   "file_extension": ".py",
   "mimetype": "text/x-python",
   "name": "python",
   "nbconvert_exporter": "python",
   "pygments_lexer": "ipython3",
   "version": "3.10.8"
  }
 },
 "nbformat": 4,
 "nbformat_minor": 5
}
